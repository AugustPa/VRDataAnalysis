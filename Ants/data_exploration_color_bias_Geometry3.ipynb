{
 "cells": [
  {
   "cell_type": "code",
   "execution_count": null,
   "metadata": {},
   "outputs": [],
   "source": [
    "from VR_Trajectory_analysis import *"
   ]
  },
  {
   "cell_type": "code",
   "execution_count": null,
   "metadata": {},
   "outputs": [],
   "source": [
    "directory = '/Users/apaula/ownCloud/MatrexVR1/20250403_ColorGeometry_Data/RunData'"
   ]
  },
  {
   "cell_type": "code",
   "execution_count": null,
   "metadata": {},
   "outputs": [],
   "source": [
    "df1 = get_combined_df(directory, trim_seconds=1.0)"
   ]
  },
  {
   "cell_type": "code",
   "execution_count": null,
   "metadata": {},
   "outputs": [],
   "source": [
    "directory = '/Users/apaula/ownCloud/MatrexVR1/20250507_ColorGeometryV2_Data/RunData'"
   ]
  },
  {
   "cell_type": "code",
   "execution_count": null,
   "metadata": {},
   "outputs": [],
   "source": [
    "df2 = get_combined_df(directory, trim_seconds=1.0)"
   ]
  },
  {
   "cell_type": "code",
   "execution_count": null,
   "metadata": {},
   "outputs": [],
   "source": [
    "directory = '/Users/apaula/ownCloud/MatrexVR1/20250520_Geometry_V3/20250521_ColorGeometry_V3_Data/RunData'"
   ]
  },
  {
   "cell_type": "code",
   "execution_count": null,
   "metadata": {},
   "outputs": [],
   "source": [
    "df3 = get_combined_df(directory, trim_seconds=1.0)\n",
    "df3['ConfigFile'] = df3['stepName']"
   ]
  },
  {
   "cell_type": "code",
   "execution_count": null,
   "metadata": {},
   "outputs": [],
   "source": [
    "df = pd.concat([df1, df2, df3], ignore_index=True)"
   ]
  },
  {
   "cell_type": "code",
   "execution_count": null,
   "metadata": {},
   "outputs": [],
   "source": [
    "df[\"FlyID\"].nunique()"
   ]
  },
  {
   "cell_type": "code",
   "execution_count": null,
   "metadata": {},
   "outputs": [],
   "source": [
    "df.columns"
   ]
  },
  {
   "cell_type": "code",
   "execution_count": null,
   "metadata": {},
   "outputs": [],
   "source": [
    "df = add_trial_id_and_displacement(df)\n",
    "df = add_trial_time(df)"
   ]
  },
  {
   "cell_type": "code",
   "execution_count": null,
   "metadata": {},
   "outputs": [],
   "source": [
    "df\n"
   ]
  },
  {
   "cell_type": "code",
   "execution_count": null,
   "metadata": {},
   "outputs": [],
   "source": [
    "df_stationary, df_normal, df_excessive, stationary_ids, normal_ids, excessive_ids = classify_trials_by_displacement(df[df['Scene'].isin(['Choice_noBG', 'Choice_desync'])], min_disp=0, max_disp=500)"
   ]
  },
  {
   "cell_type": "code",
   "execution_count": null,
   "metadata": {},
   "outputs": [],
   "source": [
    "plot_trajectories(df_normal, 'normal')"
   ]
  },
  {
   "cell_type": "code",
   "execution_count": null,
   "metadata": {},
   "outputs": [],
   "source": [
    "import pandas as pd\n",
    "import numpy as np\n",
    "import re\n",
    "\n",
    "def parse_angle_from_config(config_filename: str, default_angle: float = 20.0) -> float:\n",
    "    \"\"\"\n",
    "    Extracts the 'XX' in e.g. \"constantSize_XXdeg\" from the config filename.\n",
    "    If no match is found (deg info is missing), returns default_angle (usually 20°).\n",
    "    \"\"\"\n",
    "    pattern = r\"_([0-9]+)deg\"  # looks for something like \"_30deg_\"\n",
    "    match = re.search(pattern, config_filename)\n",
    "    if match:\n",
    "        return float(match.group(1))\n",
    "    else:\n",
    "        return default_angle\n",
    "\n",
    "def get_left_right_goals(angle_deg: float, radius: float = 60.0):\n",
    "    \"\"\"\n",
    "    Given a total separation angle (in degrees) and a circle radius, \n",
    "    return (x,z) for the left goal and right goal, respectively,\n",
    "    placed symmetrically about the positive z-axis.\n",
    "    \"\"\"\n",
    "    # Convert half the separation angle to radians\n",
    "    half_angle_rad = np.radians(angle_deg / 2.0)\n",
    "\n",
    "    # By convention here:\n",
    "    #  - \"left\" is at -half_angle_rad\n",
    "    #  - \"right\" is at +half_angle_rad\n",
    "    #\n",
    "    # Since 0° is along +z, we do:\n",
    "    #   x = r * sin(theta)\n",
    "    #   z = r * cos(theta)\n",
    "    #\n",
    "    # left uses -half_angle_rad; right uses +half_angle_rad\n",
    "    left_x = radius * np.sin(-half_angle_rad)\n",
    "    left_z = radius * np.cos(-half_angle_rad)\n",
    "    right_x = radius * np.sin(half_angle_rad)\n",
    "    right_z = radius * np.cos(half_angle_rad)\n",
    "\n",
    "    return (left_x, left_z), (right_x, right_z)\n",
    "\n",
    "def get_first_goal_reached(\n",
    "    df_normal,\n",
    "    goals,            # A list of (goal_name, (x, z)) tuples\n",
    "    threshold=7\n",
    "):\n",
    "    \"\"\"\n",
    "    Given a subset of data for a single config, determines the first \n",
    "    goal reached for each UniqueTrialID (unchanged from your snippet).\n",
    "    \"\"\"\n",
    "    def distance(p1, p2):\n",
    "        return np.sqrt((p1[0] - p2[0])**2 + (p1[1] - p2[1])**2)\n",
    "    \n",
    "    results = []\n",
    "    \n",
    "    # Group by UniqueTrialID\n",
    "    for trial_id, trial_data in df_normal.groupby('UniqueTrialID'):\n",
    "        config = trial_data['ConfigFile'].iloc[0]\n",
    "        \n",
    "        # Sort by time\n",
    "        trial_data = trial_data.sort_values(by='trial_time')\n",
    "        \n",
    "        first_reached = None\n",
    "        reached_time = None\n",
    "        \n",
    "        for idx, row in trial_data.iterrows():\n",
    "            participant_pos = (row['GameObjectPosX'], row['GameObjectPosZ'])\n",
    "            # Check each goal\n",
    "            for goal_name, goal_pos in goals:\n",
    "                if distance(participant_pos, goal_pos) <= threshold:\n",
    "                    first_reached = goal_name\n",
    "                    reached_time = row['trial_time']\n",
    "                    break\n",
    "            if first_reached is not None:\n",
    "                break\n",
    "        \n",
    "        results.append((trial_id, config, first_reached, reached_time))\n",
    "    \n",
    "    # Convert to DataFrame\n",
    "    results_df = pd.DataFrame(results, columns=[\n",
    "        'UniqueTrialID',\n",
    "        'ConfigFile',\n",
    "        'FirstReachedGoal',\n",
    "        'GoalReachedTime'\n",
    "    ])\n",
    "    \n",
    "    return results_df\n",
    "\n",
    "\n",
    "def analyze_variable_angle_configs(df_normal, threshold=3.5, default_angle=20.0):\n",
    "    \"\"\"\n",
    "    1) Finds unique config files that start with \"BinaryChoice_constantSize\" and \n",
    "       end with \"BlackCylinder_BlackCylinder.json\".\n",
    "    2) Parses the angle, sets default to 20° if missing.\n",
    "    3) Computes left/right goals for each angle.\n",
    "    4) Calls get_first_goal_reached for each subset, concatenates results.\n",
    "    \"\"\"\n",
    "    # Filter only the configs we care about\n",
    "    mask = df_normal['ConfigFile'].str.contains(\n",
    "        r'BinaryChoice|ScalingChoice',   # match either substring\n",
    "        regex=True,     # ← default is True, but explicit is fine\n",
    "        na=False        # avoid NaN -> False\n",
    "    )\n",
    "    df_subset = df_normal[mask]\n",
    "    \n",
    "    unique_configs = df_subset['ConfigFile'].unique()\n",
    "    \n",
    "    all_results = []\n",
    "    \n",
    "    for cfg in unique_configs:\n",
    "        angle_deg = parse_angle_from_config(cfg, default_angle=default_angle)\n",
    "        (left_goal, right_goal) = get_left_right_goals(angle_deg, radius=60)\n",
    "        \n",
    "        # Subset data for this particular config\n",
    "        df_config = df_subset[df_subset['ConfigFile'] == cfg].copy()\n",
    "        \n",
    "        # Determine the first reached goal\n",
    "        res = get_first_goal_reached(\n",
    "            df_config,\n",
    "            goals=[(\"left\", left_goal), (\"right\", right_goal)],\n",
    "            threshold=threshold\n",
    "        )\n",
    "        all_results.append(res)\n",
    "    \n",
    "    if all_results:\n",
    "        return pd.concat(all_results, ignore_index=True)\n",
    "    else:\n",
    "        # No matching config files found\n",
    "        return pd.DataFrame(columns=['UniqueTrialID', 'ConfigFile', 'FirstReachedGoal', 'GoalReachedTime'])\n",
    "\n",
    "# -------------------------------------------------------------------\n",
    "# Example Usage:\n",
    "final_results = analyze_variable_angle_configs(df_normal, threshold=3.5, default_angle=20.0)\n",
    "#\n",
    "# final_results will have one row per UniqueTrialID, giving you\n",
    "# the earliest goal reached and its time, for each of the \"BinaryChoice_constantSize_..._BlackCylinder_BlackCylinder.json\"\n",
    "# config files in df_normal.\n",
    "# -------------------------------------------------------------------\n"
   ]
  },
  {
   "cell_type": "code",
   "execution_count": null,
   "metadata": {},
   "outputs": [],
   "source": [
    "df_normal[\"FlyID\"].nunique()"
   ]
  },
  {
   "cell_type": "code",
   "execution_count": null,
   "metadata": {},
   "outputs": [],
   "source": [
    "final_results['GoalReachedTime'].notna().sum()"
   ]
  },
  {
   "cell_type": "code",
   "execution_count": null,
   "metadata": {},
   "outputs": [],
   "source": [
    "all_results=final_results"
   ]
  },
  {
   "cell_type": "code",
   "execution_count": null,
   "metadata": {},
   "outputs": [],
   "source": [
    "all_results.to_pickle(\"geometry_results_df_3.pkl\")"
   ]
  },
  {
   "cell_type": "code",
   "execution_count": null,
   "metadata": {},
   "outputs": [],
   "source": [
    "results_df = pd.read_pickle(\"geometry_results_df_3.pkl\")"
   ]
  },
  {
   "cell_type": "code",
   "execution_count": null,
   "metadata": {},
   "outputs": [],
   "source": [
    "results_df=all_results\n"
   ]
  },
  {
   "cell_type": "code",
   "execution_count": null,
   "metadata": {},
   "outputs": [],
   "source": [
    "df"
   ]
  },
  {
   "cell_type": "code",
   "execution_count": null,
   "metadata": {},
   "outputs": [],
   "source": [
    "# 1. Keep only trials that actually reached a goal\n",
    "valid_results = results_df.dropna(subset=['FirstReachedGoal'])\n",
    "\n",
    "# 2. Merge the cutoff times back into df\n",
    "#    We merge on 'UniqueTrialID' to get each trial's GoalReachedTime.\n",
    "df_merged = pd.merge(df, valid_results[['UniqueTrialID', 'GoalReachedTime', 'FirstReachedGoal']], on='UniqueTrialID', how='inner')\n",
    "\n",
    "# 3. Filter df so that only rows with trial_time less than or equal to the goal time are kept\n",
    "df_cut = df_merged[df_merged['trial_time'] <= df_merged['GoalReachedTime']]"
   ]
  },
  {
   "cell_type": "code",
   "execution_count": null,
   "metadata": {},
   "outputs": [],
   "source": [
    "df_merged['GoalReachedTime'].max()"
   ]
  },
  {
   "cell_type": "code",
   "execution_count": null,
   "metadata": {},
   "outputs": [],
   "source": [
    "# Save DataFrames as pickle (binary, preserves dtypes & indexes)\n",
    "df_cut_path_pickle = '/Users/apaula/src/VRDataAnalysis/Ants/preprocessed_data/color_bias_geometry3/df_cut.pkl'\n",
    "results_df_path_pickle = '/Users/apaula/src/VRDataAnalysis/Ants/preprocessed_data/color_bias_geometry3/results_df.pkl'\n",
    "df_cut.to_pickle(df_cut_path_pickle)\n",
    "results_df.to_pickle(results_df_path_pickle)"
   ]
  },
  {
   "cell_type": "code",
   "execution_count": null,
   "metadata": {
    "vscode": {
     "languageId": "markdown"
    }
   },
   "outputs": [],
   "source": [
    "# Script can be run from here if raw data hasn't changed\n",
    "# This cell marks the point where you can start running the script if the raw data remains unchanged. All necessary preprocessed data has been saved and can be loaded directly from the pickle files."
   ]
  },
  {
   "cell_type": "code",
   "execution_count": null,
   "metadata": {},
   "outputs": [],
   "source": [
    "from VR_Trajectory_analysis import *\n",
    "df_cut_path_pickle = '/Users/apaula/src/VRDataAnalysis/Ants/preprocessed_data/color_bias_geometry3/df_cut.pkl'\n",
    "results_df_path_pickle = '/Users/apaula/src/VRDataAnalysis/Ants/preprocessed_data/color_bias_geometry3/results_df.pkl'\n",
    "df_cut = pd.read_pickle(df_cut_path_pickle)\n",
    "results_df = pd.read_pickle(results_df_path_pickle)"
   ]
  },
  {
   "cell_type": "code",
   "execution_count": null,
   "metadata": {},
   "outputs": [],
   "source": [
    "df_cut[\"FlyID\"].nunique()"
   ]
  },
  {
   "cell_type": "code",
   "execution_count": null,
   "metadata": {},
   "outputs": [],
   "source": [
    "df_cut.columns"
   ]
  },
  {
   "cell_type": "code",
   "execution_count": null,
   "metadata": {},
   "outputs": [],
   "source": [
    "df_joined = pd.merge(\n",
    "    df_cut,\n",
    "    results_df[['UniqueTrialID', 'FirstReachedGoal']],\n",
    "    on='UniqueTrialID',\n",
    "    how='left'\n",
    ")\n",
    "#add angle column to df_joined\n",
    "df_joined['Angle'] = df_joined['ConfigFile'].apply(lambda x: parse_angle_from_config(x, default_angle=999.0))"
   ]
  },
  {
   "cell_type": "code",
   "execution_count": null,
   "metadata": {},
   "outputs": [],
   "source": [
    "df_joined['Angle'].unique()"
   ]
  },
  {
   "cell_type": "code",
   "execution_count": null,
   "metadata": {},
   "outputs": [],
   "source": [
    "# -----------------------------------------------------------------\n",
    "#  Trajectories for all  \"BlueCylinder_BlueGreenCylinder\" configs\n",
    "#  shown in a grid, one panel per Angle\n",
    "# -----------------------------------------------------------------\n",
    "import math, re\n",
    "import matplotlib.pyplot as plt\n",
    "import pandas as pd\n",
    "from matplotlib import gridspec\n",
    "\n",
    "# 1.  The joined dataframe is assumed to exist:  df_joined\n",
    "\n",
    "# 2.  Keep only the configurations we care about ---------------------------\n",
    "accept_tags = (\"BlueCylinder_BlueGreenCylinder\",\n",
    "               \"Blue_BlueGreen\")\n",
    "\n",
    "df_filt = df_joined[df_joined['ConfigFile'].str.contains('|'.join(accept_tags))]\n",
    "\n",
    "# make sure Angle is numeric so the sort works\n",
    "df_filt['Angle'] = pd.to_numeric(df_filt['Angle'], errors='coerce')\n",
    "\n",
    "angles = sorted(df_filt['Angle'].dropna().unique())\n",
    "if not angles:\n",
    "    raise ValueError(\"No matching configs with an Angle column found.\")\n",
    "\n",
    "# 3.  Build grid layout -----------------------------------------------------\n",
    "n_panels = len(angles)\n",
    "n_cols   = 3                               # change to taste\n",
    "n_rows   = math.ceil(n_panels / n_cols)\n",
    "\n",
    "fig = plt.figure(figsize=(n_cols*4, n_rows*3.75))\n",
    "gs  = gridspec.GridSpec(n_rows, n_cols, wspace=.25, hspace=.35)\n",
    "\n",
    "# 4.  One sub-plot per Angle -------------------------------------------------\n",
    "for idx, angle in enumerate(angles):\n",
    "    ax = fig.add_subplot(gs[idx])\n",
    "    g  = df_filt[df_filt['Angle'] == angle]\n",
    "\n",
    "    # trajectories\n",
    "    for trial_id, td in g.groupby('UniqueTrialID'):\n",
    "        ax.plot(td['GameObjectPosX'], td['GameObjectPosZ'], alpha=.1)\n",
    "\n",
    "    # basic aesthetics\n",
    "    ax.set_xlim(-40, 40)\n",
    "    ax.set_ylim(-10, 70)\n",
    "    ax.set_aspect('equal', adjustable='box')\n",
    "\n",
    "    ax.set_xticks([-60, -40, -20, 0, 20, 40, 60])\n",
    "    ax.set_yticks([0, 20, 40, 60])\n",
    "    ax.tick_params(labelsize=8)\n",
    "\n",
    "    ax.set_title(f\"{int(angle)}°\", fontsize=10)\n",
    "\n",
    "    # left / right counts & ratios\n",
    "    res   = results_df.loc[results_df['UniqueTrialID'].isin(g['UniqueTrialID'])]\n",
    "    left  = (res['FirstReachedGoal'] == 'left').sum()\n",
    "    right = (res['FirstReachedGoal'] == 'right').sum()\n",
    "    tot   = left + right\n",
    "    txt   = f\"L: {left} ({left/tot:.2f})\\nR: {right} ({right/tot:.2f})\" if tot else \"no goals\"\n",
    "\n",
    "    ax.text(.02, .98, txt, transform=ax.transAxes, va='top',\n",
    "            fontsize=8, bbox=dict(boxstyle=\"round\", fc=\"w\", ec=\".5\"))\n",
    "\n",
    "# hide any leftover empty cells\n",
    "for j in range(idx+1, n_rows*n_cols):\n",
    "    fig.add_subplot(gs[j]).axis('off')\n",
    "\n",
    "fig.suptitle(\"Trajectories – BlueCylinder_BlueGreenCylinder\", y=.92, fontsize=16)\n",
    "plt.tight_layout()\n",
    "plt.show()\n"
   ]
  },
  {
   "cell_type": "code",
   "execution_count": null,
   "metadata": {},
   "outputs": [],
   "source": [
    "get_left_right_goals(70, radius=60)"
   ]
  },
  {
   "cell_type": "code",
   "execution_count": null,
   "metadata": {},
   "outputs": [],
   "source": [
    "# ------------------------------------------------------------\n",
    "# Preferred-goal reach vs platform angle   (all two-goal configs)\n",
    "# ------------------------------------------------------------\n",
    "import numpy as np\n",
    "import pandas as pd\n",
    "import matplotlib.pyplot as plt\n",
    "from statsmodels.stats.proportion import proportion_confint   # pip install statsmodels\n",
    "\n",
    "# ── 1.  Merge goal info into movement dataframe ──────────────────────────\n",
    "# (uncomment if you haven’t created df_joined yet)\n",
    "# df_joined = pd.merge(\n",
    "#     df_cut,\n",
    "#     results_df[['UniqueTrialID', 'FirstReachedGoal']],\n",
    "#     on='UniqueTrialID',\n",
    "#     how='left'\n",
    "# )\n",
    "\n",
    "# ensure Angle is numeric\n",
    "df_joined['Angle'] = pd.to_numeric(df_joined['Angle'], errors='coerce')\n",
    "\n",
    "# ── 2.  Per-config preferred-side counts ─────────────────────────────────\n",
    "records = []\n",
    "\n",
    "for cfg, g in df_joined.groupby('ConfigFile'):\n",
    "\n",
    "    # skip single-goal layouts if you keep such a list\n",
    "    if 'center_only_configs' in globals() and cfg in center_only_configs:\n",
    "        continue\n",
    "\n",
    "    # ---- goal counts for THIS config ------------------------------------\n",
    "    res   = results_df.loc[results_df['UniqueTrialID'].isin(g['UniqueTrialID'])]\n",
    "    left  = (res['FirstReachedGoal'] == 'left').sum()\n",
    "    right = (res['FirstReachedGoal'] == 'right').sum()\n",
    "    n     = left + right\n",
    "    if n == 0:\n",
    "        continue\n",
    "\n",
    "    # ---- which platform is on the left / right? -------------------------\n",
    "    if   \"BlueGreenCylinder_BlueCylinder\" in cfg or \"BlueGreen_Blue\" in cfg:\n",
    "        label, colour, pref_cnt = 'BG→B', 'tab:blue',  left   # preferred = Left\n",
    "    elif \"BlueCylinder_BlueGreenCylinder\" in cfg or \"Blue_BlueGreen\" in cfg:\n",
    "        label, colour, pref_cnt = 'B→BG', 'tab:green', right  # preferred = Right\n",
    "    else:\n",
    "        label, colour, pref_cnt = 'other', 'tab:orange', left # symmetrical\n",
    "\n",
    "    # ---- angle ----------------------------------------------------------\n",
    "    angle_vals = g['Angle'].dropna().unique()\n",
    "    if len(angle_vals) != 1:\n",
    "        print(f'⚠️  Angle ambiguous → skipped: {cfg}')\n",
    "        continue\n",
    "    angle = float(angle_vals[0])\n",
    "\n",
    "    records.append(dict(\n",
    "        angle=angle, label=label, colour=colour,\n",
    "        pref_cnt=pref_cnt, n_trials=n\n",
    "    ))\n",
    "\n",
    "# ── 3.  Aggregate over *all* configs that share the same angle ───────────\n",
    "df  = pd.DataFrame(records)\n",
    "agg = (df.groupby(['angle', 'label', 'colour'], as_index=False)\n",
    "         .agg(pref_cnt=('pref_cnt', 'sum'),\n",
    "              n_trials =('n_trials', 'sum')))\n",
    "\n",
    "# Wilson CIs & preferred-goal proportion\n",
    "lo, hi = [], []\n",
    "for s, n in zip(agg['pref_cnt'], agg['n_trials']):\n",
    "    l, h = proportion_confint(s, n, alpha=.05, method='wilson')\n",
    "    lo.append(l); hi.append(h)\n",
    "\n",
    "agg['p_pref']  = agg['pref_cnt'] / agg['n_trials']\n",
    "agg['lo_pref'] = lo\n",
    "agg['hi_pref'] = hi\n",
    "# ------------------------------------------------------------------------\n",
    "\n",
    "# ── 4.  Plot ─────────────────────────────────────────────────────────────\n",
    "label_map = {'BG→B': 'Left', 'B→BG': 'Right', 'other': 'Symmetric'}\n",
    "\n",
    "plt.figure(figsize=(6, 4))\n",
    "\n",
    "for lbl, grp in agg.groupby('label'):\n",
    "    plt.scatter(grp['angle'], grp['p_pref'],\n",
    "                c=grp['colour'],\n",
    "                label=label_map[lbl],\n",
    "                s=60, alpha=.9)\n",
    "\n",
    "    grp = grp.sort_values('angle')\n",
    "    plt.plot(grp['angle'], grp['p_pref'],\n",
    "             c=grp['colour'].iloc[0], lw=1, alpha=.4)\n",
    "\n",
    "    plt.errorbar(grp['angle'], grp['p_pref'],\n",
    "                 yerr=[grp['p_pref'] - grp['lo_pref'],\n",
    "                       grp['hi_pref'] - grp['p_pref']],\n",
    "                 fmt='none',\n",
    "                 ecolor=grp['colour'].iloc[0],\n",
    "                 alpha=.5, capsize=3)\n",
    "\n",
    "plt.axhline(.5, ls='--', alpha=.4)\n",
    "plt.xlabel('Platform angle (deg)')\n",
    "plt.ylabel('Fraction of runs reaching preferred goal')\n",
    "plt.title('Preferred-goal reach vs. platform angle   (95 % Wilson CIs)')\n",
    "plt.legend(title='Preferred Goal')\n",
    "plt.tight_layout()\n",
    "plt.show()"
   ]
  }
 ],
 "metadata": {
  "kernelspec": {
   "display_name": "ring_attractor_env",
   "language": "python",
   "name": "python3"
  },
  "language_info": {
   "codemirror_mode": {
    "name": "ipython",
    "version": 3
   },
   "file_extension": ".py",
   "mimetype": "text/x-python",
   "name": "python",
   "nbconvert_exporter": "python",
   "pygments_lexer": "ipython3",
   "version": "3.9.21"
  }
 },
 "nbformat": 4,
 "nbformat_minor": 2
}
