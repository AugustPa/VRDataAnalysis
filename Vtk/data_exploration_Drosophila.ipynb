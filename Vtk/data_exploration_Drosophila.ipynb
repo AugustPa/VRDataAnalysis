{
 "cells": [
  {
   "cell_type": "code",
   "execution_count": 1,
   "metadata": {},
   "outputs": [],
   "source": [
    "from VR_Trajectory_analysis import *"
   ]
  },
  {
   "cell_type": "code",
   "execution_count": 2,
   "metadata": {},
   "outputs": [],
   "source": [
    "directory = '/Users/apaula/ownCloud/MatrexVR1/VR4(DrosophilaArray)/20241126_floor_Data/RunData'"
   ]
  },
  {
   "cell_type": "code",
   "execution_count": null,
   "metadata": {},
   "outputs": [],
   "source": [
    "df = get_combined_df(directory, trim_seconds=1.0)"
   ]
  },
  {
   "cell_type": "code",
   "execution_count": 4,
   "metadata": {},
   "outputs": [],
   "source": [
    "df = add_trial_id_and_displacement(df)\n",
    "df = add_trial_time(df)"
   ]
  },
  {
   "cell_type": "code",
   "execution_count": null,
   "metadata": {},
   "outputs": [],
   "source": [
    "df"
   ]
  },
  {
   "cell_type": "code",
   "execution_count": 24,
   "metadata": {},
   "outputs": [],
   "source": [
    "df_stationary, df_normal, df_excessive, stationary_ids, normal_ids, excessive_ids = classify_trials_by_displacement(df, min_disp=8, max_disp=50)"
   ]
  },
  {
   "cell_type": "code",
   "execution_count": null,
   "metadata": {},
   "outputs": [],
   "source": [
    "len(df['UniqueTrialID'].unique())"
   ]
  },
  {
   "cell_type": "code",
   "execution_count": null,
   "metadata": {},
   "outputs": [],
   "source": [
    "len(df_normal['UniqueTrialID'].unique())"
   ]
  },
  {
   "cell_type": "code",
   "execution_count": null,
   "metadata": {},
   "outputs": [],
   "source": [
    "len(df_excessive['UniqueTrialID'].unique())"
   ]
  },
  {
   "cell_type": "code",
   "execution_count": null,
   "metadata": {},
   "outputs": [],
   "source": [
    "plot_trajectories(df_normal, 'Normal Moving')"
   ]
  },
  {
   "cell_type": "code",
   "execution_count": null,
   "metadata": {},
   "outputs": [],
   "source": [
    "plot_displacement_by_step( df_normal)"
   ]
  },
  {
   "cell_type": "code",
   "execution_count": null,
   "metadata": {},
   "outputs": [],
   "source": [
    "compare_two_steps(df_normal)"
   ]
  },
  {
   "cell_type": "code",
   "execution_count": null,
   "metadata": {},
   "outputs": [],
   "source": [
    "import pandas as pd\n",
    "import matplotlib.pyplot as plt\n",
    "import seaborn as sns\n",
    "\n",
    "# Assuming 'df' is your DataFrame containing the data\n",
    "\n",
    "# Group data to get the maximum displacement per trial within each source file\n",
    "max_displacement_per_trial = df_normal.groupby(['SourceFile', 'UniqueTrialID'])['TotalDisplacement'].max().reset_index()\n",
    "\n",
    "# Now aggregate this data to prepare for plotting\n",
    "plot_data = max_displacement_per_trial.groupby('SourceFile')['TotalDisplacement'].apply(list).reset_index()\n",
    "\n",
    "# Plotting each source file's displacement distribution\n",
    "plt.figure(figsize=(20, 10))  # Adjust the figure size as needed\n",
    "sns.boxplot(data=max_displacement_per_trial, x='SourceFile', y='TotalDisplacement')\n",
    "plt.xticks(rotation=90)  # Rotate labels for better readability if necessary\n",
    "plt.xlabel('Source File')\n",
    "plt.ylabel('Max Total Displacement per Trial (cm)')\n",
    "plt.title('Distribution of Max Total Displacement per Trial for Each Source File')\n",
    "plt.grid(True)\n",
    "plt.show()"
   ]
  },
  {
   "cell_type": "code",
   "execution_count": null,
   "metadata": {},
   "outputs": [],
   "source": [
    "import pandas as pd\n",
    "import matplotlib.pyplot as plt\n",
    "import seaborn as sns\n",
    "\n",
    "# Assuming 'df' is your DataFrame containing the data\n",
    "\n",
    "# Group data to get the maximum displacement per trial within each source file\n",
    "max_displacement_per_trial = df_normal.groupby(['SourceFile', 'UniqueTrialID'])['TotalDisplacement'].max().reset_index()\n",
    "\n",
    "# Calculate mean displacements for sorting\n",
    "mean_displacements = max_displacement_per_trial.groupby('SourceFile')['TotalDisplacement'].mean().reset_index()\n",
    "\n",
    "# Sort the source files by mean displacement\n",
    "mean_displacements = mean_displacements.sort_values('TotalDisplacement', ascending=True)\n",
    "sorted_source_files = mean_displacements['SourceFile'].tolist()\n",
    "\n",
    "# Now use this order to plot\n",
    "plt.figure(figsize=(20, 10))  # Adjust the figure size as needed\n",
    "sorted_box_plot = sns.boxplot(data=max_displacement_per_trial, x='SourceFile', y='TotalDisplacement', order=sorted_source_files)\n",
    "plt.xticks(rotation=90)  # Rotate labels for better readability if necessary\n",
    "plt.xlabel('Source File')\n",
    "plt.ylabel('Max Total Displacement per Trial (cm)')\n",
    "plt.title('Distribution of Max Total Displacement per Trial for Each Source File Sorted by Mean Displacement')\n",
    "plt.grid(True)\n",
    "plt.show()"
   ]
  },
  {
   "cell_type": "code",
   "execution_count": null,
   "metadata": {},
   "outputs": [],
   "source": [
    "import pandas as pd\n",
    "import matplotlib.pyplot as plt\n",
    "import seaborn as sns\n",
    "\n",
    "# Assuming 'df' is your DataFrame containing the data\n",
    "\n",
    "# Group data to get the total or average displacement per CurrentStep\n",
    "displacement_per_step = df_normal.groupby('CurrentStep')['TotalDisplacement'].mean().reset_index()\n",
    "\n",
    "# Plotting the displacement per step\n",
    "plt.figure(figsize=(12, 6))  # Adjust the figure size as needed\n",
    "sns.barplot(data=displacement_per_step, x='CurrentStep', y='TotalDisplacement')\n",
    "plt.xlabel('Current Step')\n",
    "plt.ylabel('Average Total Displacement (cm)')\n",
    "plt.title('Average Total Displacement by Current Step')\n",
    "plt.grid(True)\n",
    "plt.show()"
   ]
  },
  {
   "cell_type": "code",
   "execution_count": null,
   "metadata": {},
   "outputs": [],
   "source": [
    "import pandas as pd\n",
    "import matplotlib.pyplot as plt\n",
    "import seaborn as sns\n",
    "\n",
    "# Assuming 'df' is your DataFrame containing the data\n",
    "\n",
    "# Plotting the displacement per step with a violin plot\n",
    "plt.figure(figsize=(12, 6))  # Adjust the figure size as needed\n",
    "sns.violinplot(data=df_normal, x='CurrentStep', y='TotalDisplacement', scale='width', inner='quartile')\n",
    "plt.xlabel('Current Step')\n",
    "\n",
    "plt.ylabel('Total Displacement (cm)')\n",
    "plt.title('Distribution of Total Displacement by Current Step')\n",
    "plt.grid(True)\n",
    "plt.show()"
   ]
  },
  {
   "cell_type": "code",
   "execution_count": null,
   "metadata": {},
   "outputs": [],
   "source": [
    "import pandas as pd\n",
    "import numpy as np\n",
    "import matplotlib.pyplot as plt\n",
    "import seaborn as sns\n",
    "\n",
    "# Assuming 'df' is your DataFrame containing the data\n",
    "\n",
    "# Step 1: Extract the last position of each trial\n",
    "last_positions = df_normal.groupby('UniqueTrialID').last().reset_index()\n",
    "\n",
    "# Step 2: Calculate the angle from the origin\n",
    "last_positions['Angle'] = np.degrees(np.arctan2(last_positions['GameObjectPosZ'], last_positions['GameObjectPosX']))\n",
    "\n",
    "# Adjust angles to ensure all are positive\n",
    "last_positions['Angle'] = last_positions['Angle'].apply(lambda x: x + 360 if x < 0 else x)\n",
    "\n",
    "# Step 3: Plot histogram of angles for each 'CurrentStep'\n",
    "unique_steps = last_positions['CurrentStep'].unique()\n",
    "plt.figure(figsize=(15, 10))\n",
    "for i, step in enumerate(sorted(unique_steps)):\n",
    "    plt.subplot(len(unique_steps)//2 + 1, 2, i + 1)  # Arranging subplots\n",
    "    plt.hist(last_positions[last_positions['CurrentStep'] == step]['Angle'], bins=36, range=[0, 360], color='skyblue', edgecolor='black')\n",
    "    plt.title(f'Current Step {step}')\n",
    "    plt.xlabel('Directional Angle (degrees)')\n",
    "    plt.ylabel('Frequency')\n",
    "    plt.xlim([0, 360])\n",
    "    plt.xticks(np.arange(0, 361, 45))  # Setting ticks every 45 degrees\n",
    "\n",
    "plt.tight_layout()\n",
    "plt.show()"
   ]
  },
  {
   "cell_type": "code",
   "execution_count": null,
   "metadata": {},
   "outputs": [],
   "source": [
    "import pandas as pd\n",
    "import numpy as np\n",
    "import matplotlib.pyplot as plt\n",
    "import seaborn as sns\n",
    "\n",
    "# Assuming 'df' is your DataFrame containing the data\n",
    "\n",
    "# Step 1: Extract the last position of each trial\n",
    "last_positions = df_normal.groupby('UniqueTrialID').last().reset_index()\n",
    "\n",
    "# Step 2: Calculate the Euclidean distance from the origin\n",
    "last_positions['DistanceFromOrigin'] = np.sqrt(last_positions['GameObjectPosX']**2 + last_positions['GameObjectPosZ']**2)\n",
    "\n",
    "# Step 3: Plot the distribution of distances\n",
    "plt.figure(figsize=(12, 6))\n",
    "sns.histplot(last_positions['DistanceFromOrigin'], bins=30, kde=True, color='blue')\n",
    "plt.xlabel('Distance from Origin (units)')\n",
    "plt.ylabel('Frequency')\n",
    "plt.title('Distribution of Final Distances from Origin')\n",
    "plt.grid(True)\n",
    "plt.show()"
   ]
  },
  {
   "cell_type": "code",
   "execution_count": null,
   "metadata": {},
   "outputs": [],
   "source": [
    "import pandas as pd\n",
    "import numpy as np\n",
    "import matplotlib.pyplot as plt\n",
    "import seaborn as sns\n",
    "from scipy.stats import mannwhitneyu\n",
    "\n",
    "# Assuming 'df' is your DataFrame and it has a column 'TrialType' to distinguish the trials\n",
    "\n",
    "# Step 1: Calculate the Euclidean distance from the origin for the last position in each trial\n",
    "df_normal['DistanceFromOrigin'] = np.sqrt(df_normal['GameObjectPosX']**2 + df_normal['GameObjectPosZ']**2)\n",
    "\n",
    "# Separate the data by trial type\n",
    "df_trial1 = df_normal[df_normal['CurrentStep'] == 0]\n",
    "df_trial2 = df_normal[df_normal['CurrentStep'] == 1]\n",
    "\n",
    "# Step 2: Plot violin plots to compare distributions\n",
    "plt.figure(figsize=(10, 6))\n",
    "sns.violinplot(x='CurrentStep', y='DistanceFromOrigin', data=df_normal)\n",
    "plt.title('Comparison of Final Distances from Origin by step')\n",
    "plt.grid(True)\n",
    "plt.show()\n",
    "\n",
    "# Step 3: Density Plot\n",
    "plt.figure(figsize=(10, 6))\n",
    "sns.kdeplot(df_trial1['DistanceFromOrigin'], label='Trial1', fill=True)\n",
    "sns.kdeplot(df_trial2['DistanceFromOrigin'], label='Trial2', fill=True)\n",
    "plt.title('Density Plot of Final Distances from Origin')\n",
    "plt.xlabel('Distance from Origin (units)')\n",
    "plt.ylabel('Density')\n",
    "plt.legend()\n",
    "plt.grid(True)\n",
    "plt.show()\n",
    "\n",
    "# Step 4: Statistical Test\n",
    "stat, p = mannwhitneyu(df_trial1['DistanceFromOrigin'], df_trial2['DistanceFromOrigin'])\n",
    "print(f'Mann-Whitney U test results: U = {stat}, p-value = {p}')\n"
   ]
  },
  {
   "cell_type": "code",
   "execution_count": 29,
   "metadata": {},
   "outputs": [],
   "source": [
    "import pandas as pd\n",
    "\n",
    "# Assuming 'df' is your DataFrame containing the data\n",
    "\n",
    "# Reset 'trial_time' to zero at the start of each trial by subtracting the minimum 'elapsed_time' for each trial\n",
    "df_normal['trial_time'] = df_normal.groupby('UniqueTrialID')['elapsed_time'].transform(lambda x: x - x.min())\n",
    "\n",
    "# Now, 'trial_time' is the time elapsed since the start of each trial\n"
   ]
  },
  {
   "cell_type": "code",
   "execution_count": null,
   "metadata": {},
   "outputs": [],
   "source": [
    "import matplotlib.pyplot as plt\n",
    "\n",
    "def plot_single_frame(df_group, trial_time_point, ax):\n",
    "    \"\"\"\n",
    "    Plot trajectories up to a given trial time point on a provided Axes object with fixed axis limits.\n",
    "\n",
    "    Args:\n",
    "    df_group (DataFrame): The DataFrame containing trajectory data.\n",
    "    trial_time_point (float): The trial time point up to which trajectories should be drawn.\n",
    "    ax (matplotlib.axes.Axes): The Axes object on which to draw the plot.\n",
    "    \"\"\"\n",
    "    unique_trials = df_group['UniqueTrialID'].unique()\n",
    "    \n",
    "    for trial_id in unique_trials:\n",
    "        trial_data = df_group[(df_group['UniqueTrialID'] == trial_id) & (df_group['trial_time'] <= trial_time_point)]\n",
    "        ax.plot(trial_data['GameObjectPosX'], trial_data['GameObjectPosZ'], alpha=0.2)\n",
    "\n",
    "    ax.set_aspect('equal')\n",
    "    ax.set_xlabel('GameObjectPosX')\n",
    "    ax.set_ylabel('GameObjectPosZ')\n",
    "    ax.set_title(f'Trajectories up to {trial_time_point} seconds')\n",
    "    ax.set_xlim([-25, 25])\n",
    "    ax.set_ylim([-25, 25])\n",
    "\n",
    "# Example of downsampling the data\n",
    "df_normal['index_mod'] = df_normal.index % 6  # Keep every 10th record\n",
    "df_reduced = df_normal[df_normal['index_mod'] == 0]\n",
    "\n",
    "# Example usage: Plotting a single frame for a specific trial time point\n",
    "fig, ax = plt.subplots(figsize=(10, 8))\n",
    "plot_single_frame(df_reduced, 15, ax)  # Draw trajectories up to 30 seconds of trial time\n",
    "plt.show()\n"
   ]
  },
  {
   "cell_type": "code",
   "execution_count": null,
   "metadata": {},
   "outputs": [],
   "source": [
    "import matplotlib.pyplot as plt\n",
    "\n",
    "def plot_single_frame(df_group, trial_time_point, ax):\n",
    "    \"\"\" \n",
    "    Helper function to plot data on the given axes.\n",
    "    \"\"\"\n",
    "    plt.close()\n",
    "    ax.set_xlim([-25, 25])\n",
    "    ax.set_ylim([-25, 25])\n",
    "    ax.set_aspect('equal')\n",
    "    ax.set_xlabel('GameObjectPosX')\n",
    "    ax.set_ylabel('GameObjectPosZ')\n",
    "    ax.set_title(f'Trajectories up to {trial_time_point} seconds')\n",
    "\n",
    "    unique_trials = df_group['UniqueTrialID'].unique()\n",
    "    for trial_id in unique_trials:\n",
    "        trial_data = df_group[(df_group['UniqueTrialID'] == trial_id) & (df_group['trial_time'] <= trial_time_point)]\n",
    "        ax.plot(trial_data['GameObjectPosX'], trial_data['GameObjectPosZ'], alpha=0.2)\n",
    "\n",
    "def save_frame(df_group, trial_time_point, ax, frame_number, output_dir):\n",
    "    \"\"\"\n",
    "    Generate and save a single frame of trajectory data.\n",
    "    \"\"\"\n",
    "    ax.clear()  # Clear previous frame content\n",
    "    plot_single_frame(df_group, trial_time_point, ax)  # Redraw the content for the new frame\n",
    "    filename = f\"{output_dir}/frame_{frame_number:04d}.png\"\n",
    "    plt.savefig(filename, dpi=100)\n",
    "    plt.close()\n",
    "\n",
    "\n",
    "# Create a directory for the frames\n",
    "output_dir = '/Users/apaula/src/VRDataAnalysis/Vtk/FlyAnimation'\n",
    "os.makedirs(output_dir, exist_ok=True)\n",
    "\n",
    "# Prepare the figure and axes\n",
    "fig, ax = plt.subplots(figsize=(10, 8))\n",
    "\n",
    "# Generate frames\n",
    "total_seconds = 20\n",
    "fps = 10\n",
    "for i in range(total_seconds * fps + 1):\n",
    "    trial_time_point = i / fps\n",
    "    save_frame(df_reduced, trial_time_point, ax, i, output_dir)\n",
    "    print(f\"Saved frame {i} for time {trial_time_point:.2f}s\")\n"
   ]
  },
  {
   "cell_type": "code",
   "execution_count": null,
   "metadata": {},
   "outputs": [],
   "source": [
    "import matplotlib.pyplot as plt\n",
    "import os\n",
    "\n",
    "def plot_single_frame(df_group, trial_time_point, frame_number, output_dir):\n",
    "    \"\"\" \n",
    "    Generate, plot, and save a single frame of trajectory data.\n",
    "    \"\"\"\n",
    "    fig, ax = plt.subplots(figsize=(10, 8))  # Move figure and axes creation inside the function\n",
    "    ax.set_xlim([-25, 25])\n",
    "    ax.set_ylim([-25, 25])\n",
    "    ax.set_aspect('equal')\n",
    "    ax.set_xlabel('GameObjectPosX')\n",
    "    ax.set_ylabel('GameObjectPosZ')\n",
    "    ax.set_title(f'Trajectories up to {trial_time_point} seconds')\n",
    "\n",
    "    # Plotting data for this frame\n",
    "    unique_trials = df_group['UniqueTrialID'].unique()\n",
    "    for trial_id in unique_trials:\n",
    "        trial_data = df_group[(df_group['UniqueTrialID'] == trial_id) & (df_group['trial_time'] <= trial_time_point)]\n",
    "        if not trial_data.empty:\n",
    "            ax.plot(trial_data['GameObjectPosX'], trial_data['GameObjectPosZ'], alpha=0.2)\n",
    "\n",
    "    # Save the frame\n",
    "    filename = f\"{output_dir}/frame_{frame_number:04d}.png\"\n",
    "    plt.savefig(filename, dpi=100)\n",
    "    plt.close(fig)  # Ensure the figure is closed after saving\n",
    "\n",
    "# Directory setup\n",
    "output_dir = '/Users/apaula/src/VRDataAnalysis/Vtk/FlyAnimation1'\n",
    "os.makedirs(output_dir, exist_ok=True)\n",
    "\n",
    "# Example of downsampling the data\n",
    "df_normal['index_mod'] = df_normal.index % 6  # Keep every 10th record\n",
    "df_reduced = df_normal[df_normal['index_mod'] == 0]\n",
    "\n",
    "\n",
    "# Generating frames\n",
    "total_seconds = 20\n",
    "fps = 10\n",
    "for i in range(total_seconds * fps + 1):\n",
    "    trial_time_point = i / fps\n",
    "    plot_single_frame(df_reduced[df_reduced['CurrentStep']==1], trial_time_point, i, output_dir)\n",
    "    if i < 5:  # Print status for the first few frames to check progress\n",
    "        print(f\"Frame {i} saved for time {trial_time_point:.2f}s\")\n"
   ]
  }
 ],
 "metadata": {
  "kernelspec": {
   "display_name": "transcriptome_env",
   "language": "python",
   "name": "python3"
  },
  "language_info": {
   "codemirror_mode": {
    "name": "ipython",
    "version": 3
   },
   "file_extension": ".py",
   "mimetype": "text/x-python",
   "name": "python",
   "nbconvert_exporter": "python",
   "pygments_lexer": "ipython3",
   "version": "3.10.12"
  }
 },
 "nbformat": 4,
 "nbformat_minor": 2
}
